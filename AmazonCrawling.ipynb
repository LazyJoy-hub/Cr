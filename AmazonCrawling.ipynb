{
  "nbformat": 4,
  "nbformat_minor": 0,
  "metadata": {
    "colab": {
      "name": "AmazonCrawling.ipynb",
      "private_outputs": true,
      "provenance": [],
      "authorship_tag": "ABX9TyPUK+wxIqY1Kvny6pDJtpDD",
      "include_colab_link": true
    },
    "kernelspec": {
      "name": "python3",
      "display_name": "Python 3"
    }
  },
  "cells": [
    {
      "cell_type": "markdown",
      "metadata": {
        "id": "view-in-github",
        "colab_type": "text"
      },
      "source": [
        "<a href=\"https://colab.research.google.com/github/sinhajoy/Cr/blob/master/AmazonCrawling.ipynb\" target=\"_parent\"><img src=\"https://colab.research.google.com/assets/colab-badge.svg\" alt=\"Open In Colab\"/></a>"
      ]
    },
    {
      "cell_type": "code",
      "metadata": {
        "id": "3Co9do4Sbvoe"
      },
      "source": [
        "from bs4 import BeautifulSoup as bs\n",
        "import requests\n"
      ],
      "execution_count": null,
      "outputs": []
    },
    {
      "cell_type": "code",
      "metadata": {
        "id": "KFbDecc5eHiE"
      },
      "source": [
        "link ='https://www.flipkart.com/search?q=iphone&sid=tyy%2C4io&as=on&as-show=on&otracker=AS_QueryStore_OrganicAutoSuggest_2_3_na_na_na&otracker1=AS_QueryStore_OrganicAutoSuggest_2_3_na_na_na&as-pos=2&as-type=RECENT&suggestionId=iphone%7CMobiles&requestId=1231e958-0a8d-4c32-98c7-59e4300d0e01&as-backfill=on'"
      ],
      "execution_count": null,
      "outputs": []
    },
    {
      "cell_type": "code",
      "metadata": {
        "id": "46IGNTFeeP9l"
      },
      "source": [
        "page=requests.get(link)"
      ],
      "execution_count": null,
      "outputs": []
    },
    {
      "cell_type": "code",
      "metadata": {
        "id": "0rcvWEy2eWCH"
      },
      "source": [
        "page"
      ],
      "execution_count": null,
      "outputs": []
    },
    {
      "cell_type": "code",
      "metadata": {
        "id": "-KazPzeUeWwj"
      },
      "source": [
        "page.content"
      ],
      "execution_count": null,
      "outputs": []
    },
    {
      "cell_type": "code",
      "metadata": {
        "id": "ziN73FAcfLq3"
      },
      "source": [
        "soup=bs(page.content,'html.parser')"
      ],
      "execution_count": null,
      "outputs": []
    },
    {
      "cell_type": "code",
      "metadata": {
        "id": "Ss1oVaqyfYyi"
      },
      "source": [
        "print(soup.prettify())"
      ],
      "execution_count": null,
      "outputs": []
    },
    {
      "cell_type": "code",
      "metadata": {
        "id": "ut_iGi16gXbs"
      },
      "source": [
        "names = soup.find_all('div',class_='_4rR01T')"
      ],
      "execution_count": null,
      "outputs": []
    },
    {
      "cell_type": "code",
      "metadata": {
        "id": "OHNQ8D4Fgtos"
      },
      "source": [
        "mobile_names=[]\n",
        "for i in names:\n",
        "  mobile_names.append(i.get_text())\n",
        "print(len(mobile_names))"
      ],
      "execution_count": null,
      "outputs": []
    },
    {
      "cell_type": "code",
      "metadata": {
        "id": "-s7zQ7EWxrvh"
      },
      "source": [
        "price = soup.find_all('div',class_='_30jeq3 _1_WHN1')"
      ],
      "execution_count": null,
      "outputs": []
    },
    {
      "cell_type": "code",
      "metadata": {
        "id": "pQzH4tVEx9Dx"
      },
      "source": [
        "fprice = []\n",
        "for i in price:\n",
        "  fprice.append(i.get_text())\n",
        "\n",
        "print(len(fprice))\n"
      ],
      "execution_count": null,
      "outputs": []
    },
    {
      "cell_type": "code",
      "metadata": {
        "id": "i4fSJ4ZZySk0"
      },
      "source": [
        "rating = soup.find_all('div',class_='_3LWZlK')\n",
        "frating=[]\n",
        "for i in rating:\n",
        "  frating.append(i.get_text())\n",
        "ffrating = frating[0:len(fprice)]\n",
        "print(len(ffrating))"
      ],
      "execution_count": null,
      "outputs": []
    },
    {
      "cell_type": "code",
      "metadata": {
        "id": "2EnOAbk80CZp"
      },
      "source": [
        "import pandas as pd\n",
        "df = pd.DataFrame()"
      ],
      "execution_count": null,
      "outputs": []
    },
    {
      "cell_type": "code",
      "metadata": {
        "id": "Pa0290f81rQc"
      },
      "source": [
        "df[\"Mobile Names\"]= mobile_names\n",
        "df[\"Price\"]=fprice\n",
        "df[\"Rating\"]= ffrating"
      ],
      "execution_count": null,
      "outputs": []
    },
    {
      "cell_type": "code",
      "metadata": {
        "id": "BjtC3do115fp"
      },
      "source": [
        "df.to_csv(r'/content/Crawldata/data.csv',index=True)"
      ],
      "execution_count": null,
      "outputs": []
    }
  ]
}